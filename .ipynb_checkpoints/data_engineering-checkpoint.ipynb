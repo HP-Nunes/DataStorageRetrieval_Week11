{
 "cells": [
  {
   "cell_type": "code",
   "execution_count": null,
   "metadata": {},
   "outputs": [],
   "source": [
    "import pandas as pd"
   ]
  },
  {
   "cell_type": "code",
   "execution_count": null,
   "metadata": {},
   "outputs": [],
   "source": [
    "measurements = \"resources/hawaii_measurements.csv\"\n",
    "stations = \"resources/hawaii_stations.csv\"\n",
    "measurements_df = pd.read_csv(measurements)\n",
    "stations_df = pd.read_csv(stations)\n",
    "print(measurements_df.columns)\n",
    "print(stations_df.columns)\n",
    "print(\"*****************************************\")\n",
    "print(measurements_df.shape)\n",
    "print(\"------------------------\")\n",
    "print(stations_df.shape)\n",
    "print(\"*****************************************\")\n",
    "print(measurements_df.head())\n",
    "print(\"------------------------\")\n",
    "print(stations_df.head())\n",
    "print(\"*****************************************\")\n",
    "print(\"*****************************************\")\n",
    "\n",
    "## Cleaning Null Values\n",
    "measurements_df=measurements_df.dropna(axis=0, how='any')\n",
    "stations_df=stations_df.dropna(axis=0, how='any')\n",
    "\n",
    "print(measurements_df.shape)\n",
    "print(stations_df.shape)\n",
    "\n",
    "## Save to csv\n",
    "clean_measurements = measurements_df.to_csv(\"resources/clean_measurements.csv\") #Overwrite old file\n",
    "clean_stations = stations_df.to_csv(\"resources/clean_stations.csv\")\n",
    "\n",
    "measurements_df.head()"
   ]
  },
  {
   "cell_type": "code",
   "execution_count": null,
   "metadata": {},
   "outputs": [],
   "source": [
    "# Dependencies and boilerplate\n",
    "import sqlalchemy\n",
    "from sqlalchemy import Column, Float, Integer, String, Text, Date\n",
    "from sqlalchemy.ext.declarative import declarative_base\n",
    "from sqlalchemy import create_engine, inspect, func, MetaData\n",
    "from datetime import datetime\n",
    "\n",
    "# from sqlalchemy import *\n",
    "# metadata = MetaData()"
   ]
  },
  {
   "cell_type": "code",
   "execution_count": null,
   "metadata": {},
   "outputs": [],
   "source": [
    "engine = create_engine(\"sqlite:///Resources/hawaii.sqlite\")"
   ]
  },
  {
   "cell_type": "code",
   "execution_count": null,
   "metadata": {},
   "outputs": [],
   "source": [
    "conn = engine.connect()"
   ]
  },
  {
   "cell_type": "code",
   "execution_count": null,
   "metadata": {},
   "outputs": [],
   "source": [
    "Base = declarative_base()"
   ]
  },
  {
   "cell_type": "code",
   "execution_count": null,
   "metadata": {},
   "outputs": [],
   "source": [
    "# https://stackoverflow.com/questions/30344237/error-sqlite-datetime-type-only-accepts-python-datetime-and-date-objects-a\n",
    "\n",
    "class Measurement(Base):\n",
    "    __tablename__ = \"measurement\"\n",
    "    \n",
    "    id = Column(Integer, primary_key=True)\n",
    "    date = Column(Integer)\n",
    "    prcp = Column(Float) \n",
    "    station = Column(Text)\n",
    "    tobs = Column(Integer)\n",
    "    \n",
    "    def __repr__(self):\n",
    "        return f\"id={self.id}, name={self.name}\"\n",
    "    \n",
    "    \n",
    "class Station(Base):\n",
    "    __tablename__ = \"station\"\n",
    "    \n",
    "    id = Column(Integer, primary_key=True)\n",
    "    elevation = Column(Float)\n",
    "    latitude = Column(Float)\n",
    "    longitude = Column(Float)        \n",
    "    name = Column(Text)\n",
    "    station = Column(Text)\n",
    "\n",
    "    def __repr__(self):\n",
    "        return f\"id={self.id}, name={self.name}\"\n",
    "\n",
    "# Create a \"Metadata\" Layer That Abstracts our SQL Database\n",
    "# ----------------------------------\n",
    "Base.metadata.tables # Right now, this table only exists in python and not in the actual database"
   ]
  },
  {
   "cell_type": "code",
   "execution_count": null,
   "metadata": {},
   "outputs": [],
   "source": [
    "Base.metadata.create_all(engine) # Create the 2 tables within the database"
   ]
  },
  {
   "cell_type": "code",
   "execution_count": null,
   "metadata": {},
   "outputs": [],
   "source": [
    "# csv to df to dict.\n",
    "cm_df = \"resources/clean_measurements.csv\"\n",
    "cs_df = \"resources/clean_stations.csv\"\n",
    "cm_df = pd.read_csv(cm_df)\n",
    "cs_df = pd.read_csv(cs_df)\n",
    "\n",
    "cm_df=cm_df.drop(['Unnamed: 0'], axis=1).reset_index(drop=True)\n",
    "cs_df=cs_df.drop(['Unnamed: 0'], axis=1).reset_index(drop=True)\n",
    "\n",
    "cm_dic = cm_df.to_dict(orient='records')\n",
    "cs_dic = cs_df.to_dict(orient='records')"
   ]
  },
  {
   "cell_type": "code",
   "execution_count": null,
   "metadata": {},
   "outputs": [],
   "source": [
    "# Use MetaData from SQLAlchemy to reflect the tables\n",
    "# metadata = MetaData(bind=engine, reflect=True)\n",
    "metadata = MetaData(bind=engine)\n",
    "metadata.reflect()"
   ]
  },
  {
   "cell_type": "code",
   "execution_count": null,
   "metadata": {},
   "outputs": [],
   "source": [
    "# Populate SQLITE Table for Measurement_df\n",
    "# m_table = Measurement.__table__\n",
    "m_table = sqlalchemy.Table('measurement', metadata, autoload=True)\n",
    "conn.execute(m_table.delete())\n",
    "conn.execute(m_table.insert(), cm_dic)\n",
    "\n",
    "# Populate SQLITE Table for stations_df\n",
    "# s_table = Station.__table__\n",
    "s_table = sqlalchemy.Table('station', metadata, autoload=True)\n",
    "conn.execute(s_table.delete())\n",
    "conn.execute(s_table.insert(), cs_dic)"
   ]
  },
  {
   "cell_type": "code",
   "execution_count": null,
   "metadata": {},
   "outputs": [],
   "source": [
    "# with engine.begin() as cn:\n",
    "#    cn.execute(m_table.delete())\n",
    "#    cn.execute(m_table.insert(), cm_dic)\n",
    "    \n",
    "conn.execute(\"select * from measurement\").fetchall()"
   ]
  },
  {
   "cell_type": "code",
   "execution_count": null,
   "metadata": {
    "scrolled": true
   },
   "outputs": [],
   "source": [
    "conn.execute(\"select * from station limit 5\").fetchall()"
   ]
  },
  {
   "cell_type": "code",
   "execution_count": null,
   "metadata": {},
   "outputs": [],
   "source": [
    "#         # Ref: https://stackoverflow.com/questions/41900593/csv-into-sqlite-table-python\n",
    "\n",
    "# import sqlite3\n",
    "# df = pd.read_csv('resources/clean_stations.csv')\n",
    "# con = sqlite3.connect(\"dummy.db\")\n",
    "# df.to_sql(\"Stations_test\", con)\n",
    "\n",
    "# con.close()"
   ]
  }
 ],
 "metadata": {
  "kernelspec": {
   "display_name": "Python [conda env:PythonData]",
   "language": "python",
   "name": "conda-env-PythonData-py"
  },
  "language_info": {
   "codemirror_mode": {
    "name": "ipython",
    "version": 3
   },
   "file_extension": ".py",
   "mimetype": "text/x-python",
   "name": "python",
   "nbconvert_exporter": "python",
   "pygments_lexer": "ipython3",
   "version": "3.6.4"
  }
 },
 "nbformat": 4,
 "nbformat_minor": 2
}
